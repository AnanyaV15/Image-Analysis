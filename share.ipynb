{
 "cells": [
  {
   "cell_type": "code",
   "execution_count": null,
   "id": "9db6be05-a46f-4fe7-a581-8661bd29e974",
   "metadata": {},
   "outputs": [],
   "source": [
    "import cv2\n",
    "import numpy as np\n",
    "import os\n",
    "def detect_circular_rings(image):\n",
    "    # Convert the image to grayscale\n",
    "    gray = cv2.cvtColor(image, cv2.COLOR_BGR2GRAY)\n",
    "\n",
    "    # Blur the image to reduce noise\n",
    "    blurred = cv2.GaussianBlur(gray, (5, 5), 0)\n",
    "\n",
    "    # Apply Canny edge detection\n",
    "    edges = cv2.Canny(blurred, 50, 150)\n",
    "\n",
    "    # Detect circles using Hough Circle Transform\n",
    "    circles = cv2.HoughCircles(edges, cv2.HOUGH_GRADIENT, 1, 150, \n",
    "                                param1=300, param2=21, minRadius=30, maxRadius=120)\n",
    "\n",
    "    if circles is not None:\n",
    "        circles = np.uint16(np.around(circles))\n",
    "\n",
    "        for i in circles[0, :]:\n",
    "            # Draw the outer circle\n",
    "            cv2.circle(image, (i[0], i[1]), i[2], (0, 255, 0), 15)\n",
    "\n",
    "    return image\n",
    "ip_folder=\"/Volumes/Extreme SSD/expt_memory/expt1/T2_11-26/cleaned_images/\"\n",
    "# Read the image\n",
    "image = cv2.imread('/Volumes/Extreme SSD/expt_memory/expt1/T2_11-26/cleaned_images/thparticles_1.jpg') \n",
    "\n",
    "# Detect circular rings\n",
    "result = detect_circular_rings(image)\n",
    "\n",
    "# Display the result\n",
    "#cv2.imshow(\"Detected Rings\", result)\n",
    "#cv2.waitKey(0)\n",
    "#cv2.destroyAllWindows()\n",
    "\n",
    "particle_filename = os.path.join(ip_folder, \"rings.jpg\")\n",
    "cv2.imwrite(particle_filename, result)\n",
    "print(f\"Saved image with contours: {particle_filename}\")"
   ]
  }
 ],
 "metadata": {
  "kernelspec": {
   "display_name": "Python 3 (ipykernel)",
   "language": "python",
   "name": "python3"
  },
  "language_info": {
   "codemirror_mode": {
    "name": "ipython",
    "version": 3
   },
   "file_extension": ".py",
   "mimetype": "text/x-python",
   "name": "python",
   "nbconvert_exporter": "python",
   "pygments_lexer": "ipython3",
   "version": "3.12.7"
  }
 },
 "nbformat": 4,
 "nbformat_minor": 5
}
